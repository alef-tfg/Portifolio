{
 "cells": [
  {
   "cell_type": "code",
   "execution_count": 28,
   "metadata": {},
   "outputs": [],
   "source": [
    "import pandas as pd\n",
    "import os"
   ]
  },
  {
   "cell_type": "code",
   "execution_count": 29,
   "metadata": {},
   "outputs": [],
   "source": [
    "path = 'data/Raw'\n",
    "files = os.listdir(path)"
   ]
  },
  {
   "cell_type": "code",
   "execution_count": 30,
   "metadata": {},
   "outputs": [],
   "source": [
    "estradas = pd.read_csv(f'{path}/dados_dos_quilometro_principal.csv', encoding='latin1', sep=';')\n",
    "\n",
    "cat_cols = ['concessionaria', 'sentido', 'rodovia']\n",
    "int_cols = ['ano_do_pnv_snv']\n",
    "\n",
    "estradas[cat_cols] = estradas[cat_cols].astype('category')\n",
    "estradas[int_cols] = estradas[int_cols].astype('int16')\n",
    "\n",
    "estradas.to_parquet('data/dados_dos_quilometro_principal.parquet')\n"
   ]
  },
  {
   "cell_type": "code",
   "execution_count": 31,
   "metadata": {},
   "outputs": [],
   "source": [
    "def correct_n_ocorrencia(row):\n",
    "   try:\n",
    "      return int(row.n_da_ocorrencia)\n",
    "   except:\n",
    "      split = row.n_da_ocorrencia.split('-')\n",
    "      try:\n",
    "         return int(split[0])\n",
    "      except:\n",
    "         split = row.n_da_ocorrencia.split('*')\n",
    "         return int(split[0])\n",
    "      \n",
    "def correct_km(row):\n",
    "   try:\n",
    "      return float(row.km)\n",
    "   except:\n",
    "      split = row.km.split('+')\n",
    "      try:\n",
    "         return float(split[0])\n",
    "      except:\n",
    "         return (split[0][1:])\n",
    "      \n",
    "def process_and_append_csv(df, file):\n",
    "   _ = pd.read_csv(f'{path}/{file}', encoding='latin1', sep=';')\n",
    "   _['momento'] = pd.to_datetime(_.horario+' '+_.data, format = \"%H:%M:%S %d/%m/%Y\")\n",
    "   _.drop(columns=['data', 'horario'], inplace=True)\n",
    "\n",
    "   int_cols = ['n_da_ocorrencia', 'automovel', 'bicicleta',\n",
    "       'caminhao', 'moto', 'onibus', 'outros', 'tracao_animal',\n",
    "       'transporte_de_cargas_especiais', 'trator_maquinas', 'utilitarios',\n",
    "       'ilesos', 'levemente_feridos', 'moderadamente_feridos',\n",
    "       'gravemente_feridos', 'mortos']\n",
    "    \n",
    "   try:\n",
    "      _[int_cols] = _[int_cols].astype('int16')\n",
    "      _.km = _.km.astype('float64')\n",
    "   except:\n",
    "      _.n_da_ocorrencia = _.apply(correct_n_ocorrencia, axis = 1).astype('int32')\n",
    "      _.km = _.apply(correct_km, axis = 1).astype('float64')\n",
    "      _[int_cols] = _[int_cols].astype('int16')\n",
    "\n",
    "   _.km = _.apply(lambda x: round(x.km), axis=1).astype('int32')\n",
    "   return pd.concat([df, _], ignore_index=True)"
   ]
  },
  {
   "cell_type": "code",
   "execution_count": 32,
   "metadata": {},
   "outputs": [
    {
     "name": "stdout",
     "output_type": "stream",
     "text": [
      "appending demostrativo_acidentes_ecoviasaraguaia.csv\n",
      "appending demostrativo_acidentes_viacosteira.csv\n",
      "appending demostrativo_acidentes_af.csv\n",
      "appending demostrativo_acidentes_viabrasil.csv\n",
      "appending demostrativo_acidentes_concer.csv\n",
      "appending demostrativo_acidentes_eco101.csv\n"
     ]
    },
    {
     "name": "stderr",
     "output_type": "stream",
     "text": [
      "/tmp/ipykernel_283/312185802.py:24: DtypeWarning: Columns (2) have mixed types. Specify dtype option on import or set low_memory=False.\n",
      "  _ = pd.read_csv(f'{path}/{file}', encoding='latin1', sep=';')\n"
     ]
    },
    {
     "name": "stdout",
     "output_type": "stream",
     "text": [
      "appending demostrativo_acidentes_arb.csv\n",
      "appending demostrativo_acidentes_viabahia.csv\n",
      "appending demostrativo_acidentes_cro.csv\n",
      "appending demostrativo_acidentes_ecoponte.csv\n",
      "appending demostrativo_acidentes_aps.csv\n",
      "appending demostrativo_acidentes_ecoviasdocerrado.csv\n",
      "appending demostrativo_acidentes_ecosul.csv\n",
      "appending demostrativo_acidentes_als.csv\n"
     ]
    },
    {
     "name": "stderr",
     "output_type": "stream",
     "text": [
      "/tmp/ipykernel_283/312185802.py:24: DtypeWarning: Columns (4) have mixed types. Specify dtype option on import or set low_memory=False.\n",
      "  _ = pd.read_csv(f'{path}/{file}', encoding='latin1', sep=';')\n"
     ]
    },
    {
     "name": "stdout",
     "output_type": "stream",
     "text": [
      "647.88\n",
      "113.81\n",
      "139.62\n",
      "630.73\n",
      "101.21\n",
      "220.23\n",
      "195.66\n",
      "97.150\n",
      "83.781\n",
      "124.74\n",
      "674.08\n",
      "635.47\n",
      "188.83\n",
      "135.15\n",
      "123.09\n",
      "204.64\n",
      "104.62\n",
      "154.55\n",
      "46.821\n",
      "appending demostrativo_acidentes_ecoriominas.csv\n",
      "appending demostrativo_acidentes_afd.csv\n",
      "appending demostrativo_acidentes_concebra.csv\n",
      "appending demostrativo_acidentes_epr_litoral_pioneiro.csv\n",
      "appending demostrativo_acidentes_viaaraucaria.csv\n",
      "appending demostrativo_acidentes_viasul.csv\n",
      "appending demostrativo_acidentes_aco.csv\n",
      "appending demostrativo_acidentes_trans.csv\n",
      "appending demostrativo_acidentes_via040.csv\n",
      "appending demostrativo_acidentes_msvia.csv\n",
      "appending demostrativo_acidentes_eco050.csv\n"
     ]
    }
   ],
   "source": [
    "df = pd.DataFrame({})\n",
    "for file in files:\n",
    "    if file.split('_')[0] == 'demostrativo':\n",
    "        print(f'appending {file}')\n",
    "        df = process_and_append_csv(df, file)"
   ]
  },
  {
   "cell_type": "code",
   "execution_count": 33,
   "metadata": {},
   "outputs": [],
   "source": [
    "df.to_parquet('data/acidentes.parquet')"
   ]
  }
 ],
 "metadata": {
  "kernelspec": {
   "display_name": ".venv",
   "language": "python",
   "name": "python3"
  },
  "language_info": {
   "codemirror_mode": {
    "name": "ipython",
    "version": 3
   },
   "file_extension": ".py",
   "mimetype": "text/x-python",
   "name": "python",
   "nbconvert_exporter": "python",
   "pygments_lexer": "ipython3",
   "version": "3.11.9"
  }
 },
 "nbformat": 4,
 "nbformat_minor": 2
}
